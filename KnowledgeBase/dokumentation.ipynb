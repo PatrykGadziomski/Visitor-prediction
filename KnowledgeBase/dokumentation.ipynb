{
 "cells": [
  {
   "cell_type": "markdown",
   "metadata": {},
   "source": [
    "# Dokumentation des Projekts"
   ]
  },
  {
   "cell_type": "markdown",
   "metadata": {},
   "source": [
    "<div style=\"width: 100%; height: 30px; background-color:red\"></div>"
   ]
  },
  {
   "cell_type": "markdown",
   "metadata": {},
   "source": [
    "## 06.12.2023 - Präsenz Meeting\n",
    "\n",
    "- Das Team hat sich für ein Thema entschieden\n",
    "- Das Team hat ein Repository angelegt\n",
    "- Herr Maucher wurde um Rat gebeten\n",
    "<hr>"
   ]
  },
  {
   "cell_type": "markdown",
   "metadata": {},
   "source": [
    "## 05.12.2023\n",
    "\n",
    "- Patryk Gadziomski hat die Bibliotheksstatistik bekommen und hat Data Exploration betrieben und hat die Wochentage und Wetterdaten hinzugefügt\n",
    "<hr>"
   ]
  },
  {
   "cell_type": "markdown",
   "metadata": {},
   "source": [
    "## 29.11.2023 - Online Meeting\n",
    "\n",
    "Das Team hat sich Themen für eine mögliche Implementierung überlegt:\n",
    "- Anime (AniDB) (Gesichtserkennung, Prediction, etc.)\n",
    "- Immobilienpreise Prediction (Eingrenzung)\n",
    "- BWI-Bib Besucheranzahl Prediction / HdM Bibliothek\n",
    "- Notenvorhersage anhand Zeitreihendaten (semester/Note)\n",
    "- Gesichtserkennung\n",
    "- to-dos aus Protokollen extrahieren\n",
    "- Medizin (Pulsmessung, Blutdruck (Zeitreihendaten)) (Ergebnisse interpretieren schwer)\n",
    "- Amazon Rezensionen Sentiment Analyse\n",
    "- Schlaferkennung während Autofahren\n",
    "<hr>"
   ]
  },
  {
   "cell_type": "markdown",
   "metadata": {},
   "source": []
  }
 ],
 "metadata": {
  "language_info": {
   "name": "python"
  }
 },
 "nbformat": 4,
 "nbformat_minor": 2
}

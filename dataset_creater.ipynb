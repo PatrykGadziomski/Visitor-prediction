{
 "cells": [
  {
   "cell_type": "code",
   "execution_count": null,
   "metadata": {},
   "outputs": [],
   "source": [
    "import pandas as pd\n",
    "import datetime\n",
    "import csv"
   ]
  },
  {
   "cell_type": "code",
   "execution_count": null,
   "metadata": {},
   "outputs": [],
   "source": [
    "date_list_9_30_00 = []\n",
    "\n",
    "date = datetime.datetime(2022,3,28,9,30,0)\n",
    "date_list_9_30_00.append(date)\n",
    "\n",
    "while datetime.datetime(2023, 11, 29, 9, 30, 0) not in date_list_9_30_00: \n",
    "    date += datetime.timedelta(days=1)\n",
    "    date_list_9_30_00.append(date)\n",
    "\n",
    "for i in date_list_9_30_00:\n",
    "    print(i)"
   ]
  },
  {
   "cell_type": "code",
   "execution_count": null,
   "metadata": {},
   "outputs": [],
   "source": [
    "date_list_10_45_00 = []\n",
    "\n",
    "date = datetime.datetime(2022,3,28,10,45,0)\n",
    "date_list_10_45_00.append(date)\n",
    "\n",
    "while datetime.datetime(2023, 11, 29, 10, 45, 0) not in date_list_10_45_00: \n",
    "    date += datetime.timedelta(days=1)\n",
    "    date_list_10_45_00.append(date)\n",
    "\n",
    "for i in date_list_10_45_00:\n",
    "    print(i)"
   ]
  },
  {
   "cell_type": "code",
   "execution_count": null,
   "metadata": {},
   "outputs": [],
   "source": [
    "date_list_13_45_00 = []\n",
    "\n",
    "date = datetime.datetime(2022,3,28,13,45,0)\n",
    "date_list_13_45_00.append(date)\n",
    "\n",
    "while datetime.datetime(2023, 11, 29, 13, 45, 0) not in date_list_13_45_00: \n",
    "    date += datetime.timedelta(days=1)\n",
    "    date_list_13_45_00.append(date)\n",
    "\n",
    "for i in date_list_13_45_00:\n",
    "    print(i)"
   ]
  },
  {
   "cell_type": "code",
   "execution_count": null,
   "metadata": {},
   "outputs": [],
   "source": [
    "date_list_16_15_00 = []\n",
    "\n",
    "date = datetime.datetime(2022,3,28,16,15,0)\n",
    "date_list_16_15_00.append(date)\n",
    "\n",
    "while datetime.datetime(2023, 11, 29, 16, 15, 0) not in date_list_16_15_00: \n",
    "    date += datetime.timedelta(days=1)\n",
    "    date_list_16_15_00.append(date)\n",
    "\n",
    "for i in date_list_16_15_00:\n",
    "    print(i)"
   ]
  },
  {
   "cell_type": "code",
   "execution_count": null,
   "metadata": {},
   "outputs": [],
   "source": [
    "date_list_17_45_00 = []\n",
    "\n",
    "date = datetime.datetime(2022,3,28,17,45,0)\n",
    "date_list_17_45_00.append(date)\n",
    "\n",
    "while datetime.datetime(2023, 11, 29, 17, 45, 0) not in date_list_17_45_00: \n",
    "    date += datetime.timedelta(days=1)\n",
    "    date_list_17_45_00.append(date)\n",
    "\n",
    "for i in date_list_17_45_00:\n",
    "    print(i)"
   ]
  },
  {
   "cell_type": "code",
   "execution_count": null,
   "metadata": {},
   "outputs": [],
   "source": [
    "date_list_18_00_00 = []\n",
    "\n",
    "date = datetime.datetime(2022,3,28,18,0,0)\n",
    "date_list_18_00_00.append(date)\n",
    "\n",
    "while datetime.datetime(2023, 11, 29, 18, 0, 0) not in date_list_18_00_00: \n",
    "    date += datetime.timedelta(days=1)\n",
    "    date_list_18_00_00.append(date)\n",
    "\n",
    "for i in date_list_18_00_00:\n",
    "    print(i)"
   ]
  },
  {
   "cell_type": "code",
   "execution_count": null,
   "metadata": {},
   "outputs": [],
   "source": [
    "date_list_18_30_00 = []\n",
    "\n",
    "date = datetime.datetime(2022,3,28,18,30,0)\n",
    "date_list_18_30_00.append(date)\n",
    "\n",
    "while datetime.datetime(2023, 11, 29, 18, 30, 0) not in date_list_18_30_00: \n",
    "    date += datetime.timedelta(days=1)\n",
    "    date_list_18_30_00.append(date)\n",
    "\n",
    "for i in date_list_18_30_00:\n",
    "    print(i)"
   ]
  },
  {
   "cell_type": "code",
   "execution_count": null,
   "metadata": {},
   "outputs": [],
   "source": [
    "date_list_18_45_00 = []\n",
    "\n",
    "date = datetime.datetime(2022,3,28,18,45,0)\n",
    "date_list_18_45_00.append(date)\n",
    "\n",
    "while datetime.datetime(2023, 11, 29, 18, 45, 0) not in date_list_18_45_00: \n",
    "    date += datetime.timedelta(days=1)\n",
    "    date_list_18_45_00.append(date)\n",
    "\n",
    "for i in date_list_18_45_00:\n",
    "    print(i)"
   ]
  },
  {
   "cell_type": "code",
   "execution_count": null,
   "metadata": {},
   "outputs": [],
   "source": [
    "data = []\n",
    "\n",
    "for one, two, three, four, five, six, seven, eight in zip(date_list_9_30_00, \n",
    "                                                          date_list_10_45_00, \n",
    "                                                          date_list_13_45_00, \n",
    "                                                          date_list_16_15_00, \n",
    "                                                          date_list_17_45_00, \n",
    "                                                          date_list_18_00_00, \n",
    "                                                          date_list_18_30_00, \n",
    "                                                          date_list_18_45_00):\n",
    "    data.append(one)\n",
    "    data.append(two)\n",
    "    data.append(three)\n",
    "    data.append(four)\n",
    "    data.append(five)\n",
    "    data.append(six)\n",
    "    data.append(seven)\n",
    "    data.append(eight)\n",
    "\n",
    "for i in data:\n",
    "    print(i)"
   ]
  },
  {
   "cell_type": "code",
   "execution_count": null,
   "metadata": {},
   "outputs": [],
   "source": [
    "with open(\"new_data.csv\", mode=\"w\", encoding=\"utf-8\", newline=\"\") as f:\n",
    "    fieldnames = [\"timestemp\",\"value\"]\n",
    "\n",
    "    writer = csv.writer(f, delimiter=\",\")\n",
    "    writer.writerow([\"timestemp\", \"value\"])\n",
    "    for i in data:\n",
    "        writer.writerow([i])"
   ]
  }
 ],
 "metadata": {
  "kernelspec": {
   "display_name": "Python 3",
   "language": "python",
   "name": "python3"
  },
  "language_info": {
   "codemirror_mode": {
    "name": "ipython",
    "version": 3
   },
   "file_extension": ".py",
   "mimetype": "text/x-python",
   "name": "python",
   "nbconvert_exporter": "python",
   "pygments_lexer": "ipython3",
   "version": "3.11.4"
  }
 },
 "nbformat": 4,
 "nbformat_minor": 2
}
